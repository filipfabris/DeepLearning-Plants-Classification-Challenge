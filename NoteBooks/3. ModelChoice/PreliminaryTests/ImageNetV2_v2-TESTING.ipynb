{
  "cells": [
    {
      "cell_type": "code",
      "execution_count": 38,
      "metadata": {
        "colab": {
          "base_uri": "https://localhost:8080/"
        },
        "id": "YH65JME_GdTG",
        "outputId": "9667c9f2-0f74-42c9-ec87-cf37e9d06603"
      },
      "outputs": [
        {
          "name": "stdout",
          "output_type": "stream",
          "text": [
            "Drive already mounted at /gdrive; to attempt to forcibly remount, call drive.mount(\"/gdrive\", force_remount=True).\n",
            "/gdrive/My Drive/Challenge_1\n"
          ]
        }
      ],
      "source": [
        "# Read readme.md from github\n",
        "from google.colab import drive\n",
        "drive.mount('/gdrive')\n",
        "%cd \"/gdrive/My Drive/Challenge_1/\""
      ]
    },
    {
      "cell_type": "markdown",
      "metadata": {
        "id": "YVjtZ0eCGdTH"
      },
      "source": [
        "## Import packages"
      ]
    },
    {
      "cell_type": "code",
      "execution_count": 39,
      "metadata": {
        "id": "rzgCW9GAGdTI"
      },
      "outputs": [],
      "source": [
        "# Fix randomness and hide warnings\n",
        "seed = 42\n",
        "\n",
        "import os\n",
        "\n",
        "os.environ[\"TF_CPP_MIN_LOG_LEVEL\"] = \"3\"\n",
        "os.environ[\"PYTHONHASHSEED\"] = str(seed)\n",
        "os.environ[\"MPLCONFIGDIR\"] = os.getcwd() + \"/configs/\"\n",
        "\n",
        "import warnings\n",
        "\n",
        "warnings.simplefilter(action=\"ignore\", category=FutureWarning)\n",
        "warnings.simplefilter(action=\"ignore\", category=Warning)\n",
        "\n",
        "import numpy as np\n",
        "\n",
        "np.random.seed(seed)\n",
        "\n",
        "import logging\n",
        "\n",
        "import random\n",
        "\n",
        "random.seed(seed)"
      ]
    },
    {
      "cell_type": "code",
      "execution_count": 40,
      "metadata": {
        "id": "UCIJVWMqU5Ql"
      },
      "outputs": [],
      "source": [
        "import os\n",
        "\n",
        "from platform import python_version\n",
        "import warnings\n",
        "import time\n",
        "import datetime as dt\n",
        "from sklearn.metrics import classification_report, confusion_matrix\n",
        "import multiprocessing as mp\n",
        "import shutil\n",
        "\n",
        "import matplotlib.pyplot as plt\n",
        "import matplotlib.image as mpimg\n",
        "\n",
        "import tensorflow as tf\n",
        "from tensorflow.keras import backend as K\n",
        "from tensorflow.keras.preprocessing.image import ImageDataGenerator\n",
        "from tensorflow.keras.applications.mobilenet_v2 import MobileNetV2, preprocess_input, decode_predictions\n",
        "from tensorflow.keras.models import *\n",
        "from tensorflow.keras.layers import *\n",
        "from tensorflow.keras.optimizers import *\n",
        "from tensorflow.keras.utils import *\n",
        "from tensorflow.keras.callbacks import *\n",
        "from tensorflow.keras.initializers import *\n",
        "from sklearn.model_selection import train_test_split\n",
        "\n",
        "import pandas as pd\n",
        "import numpy as np\n",
        "import seaborn as sn\n",
        "\n",
        "from PIL import Image\n",
        "import xml.etree.ElementTree as ET\n",
        "import psutil\n",
        "import random\n",
        "\n",
        "warnings.filterwarnings(\"ignore\")\n",
        "%matplotlib inline"
      ]
    },
    {
      "cell_type": "markdown",
      "metadata": {
        "id": "ODSNdd3zGdTJ"
      },
      "source": [
        "## Import data"
      ]
    },
    {
      "cell_type": "code",
      "execution_count": 41,
      "metadata": {
        "id": "tmfZ02GoGdTJ"
      },
      "outputs": [],
      "source": [
        "data = np.load('new_dataset.npz', allow_pickle=True) #If you are running it using Colab"
      ]
    },
    {
      "cell_type": "code",
      "execution_count": 42,
      "metadata": {
        "colab": {
          "base_uri": "https://localhost:8080/"
        },
        "id": "Yk8lvIizGdTJ",
        "outputId": "fe0e6b51-b108-4f43-8796-86c7de124952"
      },
      "outputs": [
        {
          "name": "stdout",
          "output_type": "stream",
          "text": [
            "healthy : 3060\n",
            "unhealthy : 1790\n"
          ]
        }
      ],
      "source": [
        "# Find unique labels and count them\n",
        "unique, counts = np.unique(data[\"labels\"], return_counts=True)\n",
        "for i in range(len(unique)):\n",
        "    print(unique[i], \":\", counts[i])"
      ]
    },
    {
      "cell_type": "code",
      "execution_count": 43,
      "metadata": {
        "id": "7K8BCTxGGdTJ"
      },
      "outputs": [],
      "source": [
        "# Load labels\n",
        "label_indexes = data[\"labels\"]"
      ]
    },
    {
      "cell_type": "code",
      "execution_count": 44,
      "metadata": {
        "id": "PiclYGKCGdTK"
      },
      "outputs": [],
      "source": [
        "labels = np.unique(label_indexes)  # used in confusion matrix later"
      ]
    },
    {
      "cell_type": "code",
      "execution_count": 45,
      "metadata": {
        "id": "NRV-agljGdTK"
      },
      "outputs": [],
      "source": [
        "# Extract classes separately\n",
        "healthy_labels = np.where(label_indexes == \"healthy\")[0]  # labels[labels == 'healthy']\n",
        "unhealthy_labels = np.where(label_indexes == \"unhealthy\")[0]  # labels[labels == 'unhealthy']"
      ]
    },
    {
      "cell_type": "code",
      "execution_count": 46,
      "metadata": {
        "id": "umOLA9ifGdTK"
      },
      "outputs": [],
      "source": [
        "# Extract images based on classes\n",
        "healthy_images = data[\"data\"][healthy_labels][:1000]\n",
        "unhealthy_images = data[\"data\"][unhealthy_labels][:1000]"
      ]
    },
    {
      "cell_type": "markdown",
      "metadata": {
        "id": "LsQPOpbJGdTK"
      },
      "source": [
        "### Preproces images"
      ]
    },
    {
      "cell_type": "markdown",
      "metadata": {
        "id": "i50VxzCtGdTK"
      },
      "source": [
        "### Prepare Data"
      ]
    },
    {
      "cell_type": "code",
      "execution_count": 59,
      "metadata": {
        "id": "Ziqfd8JkGdTK"
      },
      "outputs": [],
      "source": [
        "X = np.concatenate([healthy_images, unhealthy_images], axis=0)\n",
        "\n",
        "# Create labels: 0 for 'healthy plants', 1 for 'unhealthy plants'\n",
        "y = np.concatenate(\n",
        "    [np.zeros(len(healthy_images)), np.ones(len(unhealthy_images))], axis=0\n",
        ")\n",
        "y = to_categorical(y, len(np.unique(y)))"
      ]
    },
    {
      "cell_type": "markdown",
      "metadata": {
        "id": "aGtobciIGdTL"
      },
      "source": [
        "### Split data"
      ]
    },
    {
      "cell_type": "code",
      "execution_count": 60,
      "metadata": {
        "colab": {
          "base_uri": "https://localhost:8080/"
        },
        "id": "Dsrk740rGdTL",
        "outputId": "a7317b2d-1d6e-4e57-ce2c-1fc19de3fe7e"
      },
      "outputs": [
        {
          "name": "stdout",
          "output_type": "stream",
          "text": [
            "X_train shape: (1500, 96, 96, 3), y_train shape: (1500, 2)\n",
            "X_test shape: (500, 96, 96, 3), y_test shape: (500, 2)\n"
          ]
        }
      ],
      "source": [
        "# Split data into train_val and test sets\n",
        "X_train_val, X_test, y_train_val, y_test = train_test_split(\n",
        "    X, y, random_state=seed, test_size=0.25, stratify=y\n",
        ")\n",
        "# Print shapes of the datasets\n",
        "print(f\"X_train shape: {X_train_val.shape}, y_train shape: {y_train_val.shape}\")\n",
        "print(f\"X_test shape: {X_test.shape}, y_test shape: {y_test.shape}\")\n"
      ]
    },
    {
      "cell_type": "markdown",
      "metadata": {
        "id": "HQ3IXv5tGdTL"
      },
      "source": [
        "## Architecture"
      ]
    },
    {
      "cell_type": "code",
      "execution_count": 61,
      "metadata": {
        "colab": {
          "base_uri": "https://localhost:8080/"
        },
        "id": "QT37RyEDQIjb",
        "outputId": "ddcef2a3-b64e-4988-f9bb-21c62a8896df"
      },
      "outputs": [
        {
          "name": "stderr",
          "output_type": "stream",
          "text": [
            "WARNING:absl:`lr` is deprecated in Keras optimizer, please use `learning_rate` or use the legacy optimizer, e.g.,tf.keras.optimizers.legacy.Adam.\n"
          ]
        }
      ],
      "source": [
        "mobile = MobileNetV2(\n",
        "    input_shape=(96, 96, 3),\n",
        "    include_top=False,\n",
        "    weights=\"imagenet\",\n",
        "    pooling='avg',\n",
        ")\n",
        "\n",
        "for layer in mobile.layers[:-30]: #from 0 to len(layers)-30 layers are not trainable\n",
        "  layer.trainable = False\n",
        "\n",
        "inputs = Input(shape=(96, 96, 3))\n",
        "x = mobile(inputs)\n",
        "x = Dense(100, activation='relu')(x)\n",
        "predictions = Dense(2, activation='softmax')(x)\n",
        "\n",
        "\n",
        "model = Model(inputs=inputs, outputs=predictions)\n",
        "optimizer = Adam(lr=learning_rate)\n",
        "\n",
        "model.compile(optimizer=optimizer,\n",
        "              loss=tf.losses.CategoricalCrossentropy(),\n",
        "              metrics=[\"accuracy\"])\n",
        "\n",
        "#model.summary()\n",
        "# for i, layer in enumerate(mobile.layers):\n",
        "#    print(i, layer.name, layer.trainable)"
      ]
    },
    {
      "cell_type": "code",
      "execution_count": 62,
      "metadata": {
        "id": "lGD495ShU5Qp"
      },
      "outputs": [],
      "source": [
        "earlystop = EarlyStopping(monitor='val_accuracy',\n",
        "                          min_delta=.0001,\n",
        "                          patience=20,\n",
        "                          verbose=1,\n",
        "                          mode='max',\n",
        "                          restore_best_weights=True)\n",
        "\n",
        "reducelr = ReduceLROnPlateau(monitor='val_accuracy',\n",
        "                             factor=np.sqrt(.1),\n",
        "                             patience=5,\n",
        "                             verbose=1,\n",
        "                             mode='auto',\n",
        "                             min_delta=.0001,\n",
        "                             cooldown=0,\n",
        "                             min_lr=0.0000001)"
      ]
    },
    {
      "cell_type": "code",
      "execution_count": 63,
      "metadata": {
        "colab": {
          "base_uri": "https://localhost:8080/"
        },
        "id": "aOBzClmXU5Qp",
        "outputId": "baa582f8-cf65-4856-d343-29a072642d28"
      },
      "outputs": [
        {
          "name": "stdout",
          "output_type": "stream",
          "text": [
            "Epoch 1/30\n",
            "16/16 [==============================] - 9s 172ms/step - loss: 0.6522 - accuracy: 0.7020 - val_loss: 0.8167 - val_accuracy: 0.6180 - lr: 0.0010\n",
            "Epoch 2/30\n",
            "16/16 [==============================] - 1s 69ms/step - loss: 0.1610 - accuracy: 0.9467 - val_loss: 0.7216 - val_accuracy: 0.7440 - lr: 0.0010\n",
            "Epoch 3/30\n",
            "16/16 [==============================] - 1s 71ms/step - loss: 0.0357 - accuracy: 0.9900 - val_loss: 1.5711 - val_accuracy: 0.6900 - lr: 0.0010\n",
            "Epoch 4/30\n",
            "16/16 [==============================] - 1s 56ms/step - loss: 0.0129 - accuracy: 0.9973 - val_loss: 2.9393 - val_accuracy: 0.6460 - lr: 0.0010\n",
            "Epoch 5/30\n",
            "16/16 [==============================] - 1s 54ms/step - loss: 0.0133 - accuracy: 0.9973 - val_loss: 2.3262 - val_accuracy: 0.6360 - lr: 0.0010\n",
            "Epoch 6/30\n",
            "16/16 [==============================] - 1s 54ms/step - loss: 0.0120 - accuracy: 0.9953 - val_loss: 1.5204 - val_accuracy: 0.7060 - lr: 0.0010\n",
            "Epoch 7/30\n",
            "15/16 [===========================>..] - ETA: 0s - loss: 0.0145 - accuracy: 0.9951\n",
            "Epoch 7: ReduceLROnPlateau reducing learning rate to 0.00031622778103685084.\n",
            "16/16 [==============================] - 1s 65ms/step - loss: 0.0141 - accuracy: 0.9953 - val_loss: 1.6785 - val_accuracy: 0.6780 - lr: 0.0010\n",
            "Epoch 8/30\n",
            "16/16 [==============================] - 1s 65ms/step - loss: 0.0056 - accuracy: 0.9987 - val_loss: 1.5806 - val_accuracy: 0.7120 - lr: 3.1623e-04\n",
            "Epoch 9/30\n",
            "16/16 [==============================] - 1s 54ms/step - loss: 0.0020 - accuracy: 1.0000 - val_loss: 1.6280 - val_accuracy: 0.7160 - lr: 3.1623e-04\n",
            "Epoch 10/30\n",
            "16/16 [==============================] - 1s 54ms/step - loss: 9.0158e-04 - accuracy: 1.0000 - val_loss: 1.6510 - val_accuracy: 0.7180 - lr: 3.1623e-04\n",
            "Epoch 11/30\n",
            "16/16 [==============================] - 1s 65ms/step - loss: 8.0514e-04 - accuracy: 1.0000 - val_loss: 1.6705 - val_accuracy: 0.7160 - lr: 3.1623e-04\n",
            "Epoch 12/30\n",
            "15/16 [===========================>..] - ETA: 0s - loss: 9.3941e-04 - accuracy: 1.0000\n",
            "Epoch 12: ReduceLROnPlateau reducing learning rate to 0.00010000000639606199.\n",
            "16/16 [==============================] - 1s 54ms/step - loss: 9.5320e-04 - accuracy: 1.0000 - val_loss: 1.7794 - val_accuracy: 0.6960 - lr: 3.1623e-04\n",
            "Epoch 13/30\n",
            "16/16 [==============================] - 1s 54ms/step - loss: 3.9495e-04 - accuracy: 1.0000 - val_loss: 1.8081 - val_accuracy: 0.6920 - lr: 1.0000e-04\n",
            "Epoch 14/30\n",
            "16/16 [==============================] - 1s 54ms/step - loss: 5.2805e-04 - accuracy: 1.0000 - val_loss: 1.8238 - val_accuracy: 0.6920 - lr: 1.0000e-04\n",
            "Epoch 15/30\n",
            "16/16 [==============================] - 1s 56ms/step - loss: 4.8554e-04 - accuracy: 1.0000 - val_loss: 1.8378 - val_accuracy: 0.6920 - lr: 1.0000e-04\n",
            "Epoch 16/30\n",
            "16/16 [==============================] - 1s 61ms/step - loss: 4.4669e-04 - accuracy: 1.0000 - val_loss: 1.8389 - val_accuracy: 0.6920 - lr: 1.0000e-04\n",
            "Epoch 17/30\n",
            "16/16 [==============================] - ETA: 0s - loss: 5.3602e-04 - accuracy: 1.0000\n",
            "Epoch 17: ReduceLROnPlateau reducing learning rate to 3.1622778103685084e-05.\n",
            "16/16 [==============================] - 1s 71ms/step - loss: 5.3602e-04 - accuracy: 1.0000 - val_loss: 1.8505 - val_accuracy: 0.6900 - lr: 1.0000e-04\n",
            "Epoch 18/30\n",
            "16/16 [==============================] - 1s 61ms/step - loss: 7.7636e-04 - accuracy: 1.0000 - val_loss: 1.8478 - val_accuracy: 0.6920 - lr: 3.1623e-05\n",
            "Epoch 19/30\n",
            "16/16 [==============================] - 1s 55ms/step - loss: 4.8346e-04 - accuracy: 1.0000 - val_loss: 1.8414 - val_accuracy: 0.6940 - lr: 3.1623e-05\n",
            "Epoch 20/30\n",
            "16/16 [==============================] - 1s 65ms/step - loss: 3.9819e-04 - accuracy: 1.0000 - val_loss: 1.8339 - val_accuracy: 0.6940 - lr: 3.1623e-05\n",
            "Epoch 21/30\n",
            "16/16 [==============================] - 1s 54ms/step - loss: 3.8324e-04 - accuracy: 1.0000 - val_loss: 1.8264 - val_accuracy: 0.6960 - lr: 3.1623e-05\n",
            "Epoch 22/30\n",
            "16/16 [==============================] - ETA: 0s - loss: 6.3831e-04 - accuracy: 1.0000Restoring model weights from the end of the best epoch: 2.\n",
            "\n",
            "Epoch 22: ReduceLROnPlateau reducing learning rate to 1.0000000409520217e-05.\n",
            "16/16 [==============================] - 1s 73ms/step - loss: 6.3831e-04 - accuracy: 1.0000 - val_loss: 1.8246 - val_accuracy: 0.7000 - lr: 3.1623e-05\n",
            "Epoch 22: early stopping\n"
          ]
        }
      ],
      "source": [
        "history = model.fit(\n",
        "    x = preprocess_input(X_train_val), # We need to apply the preprocessing thought for the MobileNetV2 network\n",
        "    y = y_train_val,\n",
        "    validation_data = (preprocess_input(X_test), y_test), # We need to apply the preprocessing thought for the MobileNetV2 network\n",
        "    batch_size = 96,\n",
        "    epochs = 30,\n",
        "    callbacks = [earlystop, reducelr]\n",
        "\n",
        ").history"
      ]
    },
    {
      "cell_type": "code",
      "execution_count": 64,
      "metadata": {
        "colab": {
          "base_uri": "https://localhost:8080/",
          "height": 305
        },
        "id": "K2sAURCUU5Qq",
        "outputId": "50b7d4c8-d056-4fcf-8de1-fa7ce9dc44cc"
      },
      "outputs": [
        {
          "data": {
            "image/png": "[encoded data removed]",
            "text/plain": [
              "<Figure size 1500x300 with 1 Axes>"
            ]
          },
          "metadata": {},
          "output_type": "display_data"
        }
      ],
      "source": [
        "# Plot validation accuracy for different models\n",
        "plt.figure(figsize=(15, 3))\n",
        "plt.plot(history['val_accuracy'], label='ImageNet', alpha=0.8, color='#ff7f0e')\n",
        "plt.plot(history['accuracy'], label='ImageNet', alpha=0.8)\n",
        "plt.title('Validation Accuracy')\n",
        "plt.legend()\n",
        "plt.grid(alpha=0.3)\n",
        "\n",
        "# Show the plots\n",
        "plt.show()"
      ]
    },
    {
      "cell_type": "code",
      "execution_count": null,
      "metadata": {
        "id": "7RPc3u_QoOdB"
      },
      "outputs": [],
      "source": []
    }
  ],
  "metadata": {
    "accelerator": "GPU",
    "colab": {
      "collapsed_sections": [
        "peK9cW7GGdTQ"
      ],
      "gpuType": "T4",
      "provenance": [],
      "toc_visible": true
    },
    "kernelspec": {
      "display_name": "Python 3",
      "name": "python3"
    },
    "language_info": {
      "name": "python"
    }
  },
  "nbformat": 4,
  "nbformat_minor": 0
}
